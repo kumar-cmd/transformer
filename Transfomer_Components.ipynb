{
  "nbformat": 4,
  "nbformat_minor": 0,
  "metadata": {
    "colab": {
      "provenance": [],
      "authorship_tag": "ABX9TyOAKZCnnQ3GjEhqlyFqwD1A"
    },
    "kernelspec": {
      "name": "python3",
      "display_name": "Python 3"
    },
    "language_info": {
      "name": "python"
    }
  },
  "cells": [
    {
      "cell_type": "markdown",
      "source": [
        "# nn.embedding"
      ],
      "metadata": {
        "id": "v0-P8F1S6CK0"
      }
    },
    {
      "cell_type": "code",
      "source": [
        "import torch\n",
        "import torch.nn as nn\n"
      ],
      "metadata": {
        "id": "Hevikom28Z5s"
      },
      "execution_count": null,
      "outputs": []
    },
    {
      "cell_type": "code",
      "execution_count": null,
      "metadata": {
        "colab": {
          "base_uri": "https://localhost:8080/"
        },
        "id": "yXb9ynCE5uwy",
        "outputId": "5bc1cd54-d7a5-4606-eebb-7c63247ccbf6"
      },
      "outputs": [
        {
          "output_type": "stream",
          "name": "stdout",
          "text": [
            "tensor([[-2.9036,  0.9857,  0.8465,  1.3900, -1.3996,  0.6479, -2.1215, -0.0349,\n",
            "         -0.6045,  0.6126],\n",
            "        [ 0.3301, -1.0723,  1.1515,  0.0494, -0.3717, -0.3258, -1.5063, -0.2599,\n",
            "          0.4880, -0.1453],\n",
            "        [ 1.0158, -0.7156,  2.4648,  0.4838,  0.5542,  1.1171,  1.3553, -0.5117,\n",
            "         -0.4232, -0.4270],\n",
            "        [-0.9002,  1.2946, -0.9749, -1.3860,  0.2331,  0.7802, -0.0111, -2.3996,\n",
            "          0.7156, -0.4491]], grad_fn=<EmbeddingBackward0>)\n"
          ]
        }
      ],
      "source": [
        "\n",
        "\n",
        "# Create an embedding layer for 10,000 words with a vector dimension of 300\n",
        "embedding = nn.Embedding(num_embeddings=101, embedding_dim=10)\n",
        "\n",
        "# Convert the sentence to a tensor of word indices\n",
        "sentence = \"This is a sentence.\"\n",
        "word_indices = torch.tensor([1, 2, 3, 4])\n",
        "\n",
        "# Embed the sentence\n",
        "embeddings = embedding(word_indices)\n",
        "\n",
        "# Print the dimensions of the embedded sentence\n",
        "print(embeddings)"
      ]
    }
  ]
}